{
 "cells": [
  {
   "cell_type": "code",
   "execution_count": 1,
   "metadata": {},
   "outputs": [],
   "source": [
    "import RIIM_tools"
   ]
  },
  {
   "cell_type": "code",
   "execution_count": 2,
   "metadata": {},
   "outputs": [
    {
     "name": "stderr",
     "output_type": "stream",
     "text": [
      "/Users/bpnachman/opt/anaconda3/envs/Qiskit/lib/python3.8/site-packages/qiskit/providers/ibmq/ibmqfactory.py:192: UserWarning: Timestamps in IBMQ backend properties, jobs, and job results are all now in local time instead of UTC.\n",
      "  warnings.warn('Timestamps in IBMQ backend properties, jobs, and job results '\n"
     ]
    }
   ],
   "source": [
    "from qiskit import QuantumCircuit\n",
    "from qiskit import QuantumCircuit, execute, Aer, IBMQ\n",
    "import numpy as np\n",
    "from qiskit.providers.aer import noise\n",
    "import random\n",
    "provider = IBMQ.load_account()\n",
    "from qiskit.providers.aer.noise import NoiseModel\n",
    "\n",
    "import matplotlib.pyplot as plt"
   ]
  },
  {
   "cell_type": "code",
   "execution_count": 3,
   "metadata": {},
   "outputs": [],
   "source": [
    "shots=10000\n",
    "error_param = 0.1"
   ]
  },
  {
   "cell_type": "code",
   "execution_count": 4,
   "metadata": {},
   "outputs": [
    {
     "name": "stdout",
     "output_type": "stream",
     "text": [
      "          ┌───┐     ┌───┐┌─┐   \n",
      "q_0: ──■──┤ X ├──■──┤ X ├┤M├───\n",
      "     ┌─┴─┐└─┬─┘┌─┴─┐└─┬─┘└╥┘┌─┐\n",
      "q_1: ┤ X ├──■──┤ X ├──■───╫─┤M├\n",
      "     └───┘     └───┘      ║ └╥┘\n",
      "c: 2/═════════════════════╩══╩═\n",
      "                          0  1 \n",
      "                    ┌───┐┌───┐┌───┐               ┌───┐┌───┐┌───┐┌─┐   \n",
      "q_0: ──■────■────■──┤ X ├┤ X ├┤ X ├──■────■────■──┤ X ├┤ X ├┤ X ├┤M├───\n",
      "     ┌─┴─┐┌─┴─┐┌─┴─┐└─┬─┘└─┬─┘└─┬─┘┌─┴─┐┌─┴─┐┌─┴─┐└─┬─┘└─┬─┘└─┬─┘└╥┘┌─┐\n",
      "q_1: ┤ X ├┤ X ├┤ X ├──■────■────■──┤ X ├┤ X ├┤ X ├──■────■────■───╫─┤M├\n",
      "     └───┘└───┘└───┘               └───┘└───┘└───┘                ║ └╥┘\n",
      "c: 2/═════════════════════════════════════════════════════════════╩══╩═\n",
      "                                                                  0  1 \n"
     ]
    }
   ],
   "source": [
    "#Setting up a quantum circuit to test\n",
    "qc = QuantumCircuit(2, 2)\n",
    "qc.cx(0, 1)\n",
    "qc.cx(1, 0)\n",
    "qc.cx(0, 1)\n",
    "qc.cx(1, 0)\n",
    "qc.measure(0,0)\n",
    "qc.measure(1,1)\n",
    "qc.count_ops()\n",
    "print(qc)\n",
    "\n",
    "qc3x,rvals = RIIM_tools.fiim_generate_circs(1,qc)\n",
    "print(qc3x[1])"
   ]
  },
  {
   "cell_type": "code",
   "execution_count": 5,
   "metadata": {},
   "outputs": [],
   "source": [
    "backend_qasm = Aer.get_backend('qasm_simulator')\n",
    "provider = IBMQ.get_provider(group='open')\n",
    "device = provider.get_backend('ibmq_ourense')\n",
    "\n",
    "### Pull IBMQ device properties \n",
    "full_properties = device.properties()\n",
    "coupling_map = device.configuration().coupling_map\n",
    "depol_noise_model = RIIM_tools.generate_cx_error_noise_model(2, error_param)"
   ]
  },
  {
   "cell_type": "code",
   "execution_count": 6,
   "metadata": {},
   "outputs": [],
   "source": [
    "vals_nominal = execute(qc,\n",
    "        backend_qasm,\n",
    "        shots=shots,\n",
    "        noise_model=depol_noise_model,\n",
    "        coupling_map = coupling_map,\n",
    "        optimization_level=0).result().get_counts()"
   ]
  },
  {
   "cell_type": "code",
   "execution_count": 8,
   "metadata": {},
   "outputs": [
    {
     "data": {
      "text/plain": [
       "{'00': 7393, '01': 885, '10': 857, '11': 865}"
      ]
     },
     "execution_count": 8,
     "metadata": {},
     "output_type": "execute_result"
    }
   ],
   "source": [
    "vals_nominal"
   ]
  },
  {
   "cell_type": "code",
   "execution_count": 9,
   "metadata": {},
   "outputs": [],
   "source": [
    "vals_3x = execute(qc3x[1],\n",
    "        backend_qasm,\n",
    "        shots=shots,\n",
    "        noise_model=depol_noise_model,\n",
    "        coupling_map = coupling_map,\n",
    "        optimization_level=0).result().get_counts()"
   ]
  },
  {
   "cell_type": "code",
   "execution_count": 10,
   "metadata": {},
   "outputs": [
    {
     "data": {
      "text/plain": [
       "{'00': 4566, '01': 1800, '10': 1808, '11': 1826}"
      ]
     },
     "execution_count": 10,
     "metadata": {},
     "output_type": "execute_result"
    }
   ],
   "source": [
    "vals_3x"
   ]
  },
  {
   "cell_type": "code",
   "execution_count": 11,
   "metadata": {},
   "outputs": [],
   "source": [
    "array_nom = np.array([vals_nominal['00'],vals_nominal['01'],vals_nominal['10'],vals_nominal['11']])\n",
    "array_3x = np.array([vals_3x['00'],vals_3x['01'],vals_3x['10'],vals_3x['11']])"
   ]
  },
  {
   "cell_type": "code",
   "execution_count": 12,
   "metadata": {},
   "outputs": [
    {
     "data": {
      "text/plain": [
       "Text(0, 0.5, 'counts')"
      ]
     },
     "execution_count": 12,
     "metadata": {},
     "output_type": "execute_result"
    },
    {
     "data": {
      "image/png": "[encoded data removed]",
      "text/plain": [
       "<Figure size 432x288 with 1 Axes>"
      ]
     },
     "metadata": {
      "needs_background": "light"
     },
     "output_type": "display_data"
    }
   ],
   "source": [
    "plt.plot(array_nom,marker='s',ls='',label=\"nominal\")\n",
    "plt.plot(array_3x,marker='o',ls='',label=\"3 x CNOT\")\n",
    "plt.plot(1.5*array_nom-0.5*array_3x,marker='v',ls='',label=\"FIIM\")\n",
    "\n",
    "plt.legend(fontsize=20)\n",
    "\n",
    "plt.xticks([0,1,2,3],[r'$|00\\rangle$',r'$|01\\rangle$',r'$|10\\rangle$',r'$|11\\rangle$'],rotation='vertical',fontsize=13)\n",
    "plt.xlabel(\"state\",fontsize=20)\n",
    "plt.ylabel(\"counts\",fontsize=20)"
   ]
  },
  {
   "cell_type": "code",
   "execution_count": null,
   "metadata": {},
   "outputs": [],
   "source": []
  }
 ],
 "metadata": {
  "kernelspec": {
   "display_name": "Python 3",
   "language": "python",
   "name": "python3"
  },
  "language_info": {
   "codemirror_mode": {
    "name": "ipython",
    "version": 3
   },
   "file_extension": ".py",
   "mimetype": "text/x-python",
   "name": "python",
   "nbconvert_exporter": "python",
   "pygments_lexer": "ipython3",
   "version": "3.8.2"
  }
 },
 "nbformat": 4,
 "nbformat_minor": 2
}
