{
 "cells": [
  {
   "cell_type": "code",
   "execution_count": 19,
   "metadata": {},
   "outputs": [],
   "source": [
    "import RIIM_tools"
   ]
  },
  {
   "cell_type": "code",
   "execution_count": 20,
   "metadata": {},
   "outputs": [
    {
     "name": "stderr",
     "output_type": "stream",
     "text": [
      "Credentials are already in use. The existing account in the session will be replaced.\n"
     ]
    }
   ],
   "source": [
    "from qiskit import QuantumCircuit\n",
    "from qiskit import QuantumCircuit, execute, Aer, IBMQ\n",
    "import numpy as np\n",
    "from qiskit.providers.aer import noise\n",
    "import random\n",
    "provider = IBMQ.load_account()\n",
    "from qiskit.providers.aer.noise import NoiseModel"
   ]
  },
  {
   "cell_type": "code",
   "execution_count": 21,
   "metadata": {},
   "outputs": [],
   "source": [
    "shots=10000\n",
    "error_param = 0.1"
   ]
  },
  {
   "cell_type": "code",
   "execution_count": 22,
   "metadata": {},
   "outputs": [
    {
     "name": "stdout",
     "output_type": "stream",
     "text": [
      "             ┌───┐     ┌───┐┌─┐   \n",
      "q_0: |0>──■──┤ X ├──■──┤ X ├┤M├───\n",
      "        ┌─┴─┐└─┬─┘┌─┴─┐└─┬─┘└╥┘┌─┐\n",
      "q_1: |0>┤ X ├──■──┤ X ├──■───╫─┤M├\n",
      "        └───┘     └───┘      ║ └╥┘\n",
      " c_0: 0 ═════════════════════╩══╬═\n",
      "                                ║ \n",
      " c_1: 0 ════════════════════════╩═\n",
      "                                  \n"
     ]
    }
   ],
   "source": [
    "#Setting up a quantum circuit to test\n",
    "qc = QuantumCircuit(2, 2)\n",
    "qc.cx(0, 1)\n",
    "qc.cx(1, 0)\n",
    "qc.cx(0, 1)\n",
    "qc.cx(1, 0)\n",
    "qc.measure(0,0)\n",
    "qc.measure(1,1)\n",
    "qc.count_ops()\n",
    "print(qc)"
   ]
  },
  {
   "cell_type": "code",
   "execution_count": 23,
   "metadata": {},
   "outputs": [],
   "source": [
    "backend_qasm = Aer.get_backend('qasm_simulator')\n",
    "provider = IBMQ.get_provider(group='open')\n",
    "device = provider.get_backend('ibmq_ourense')\n",
    "\n",
    "### Pull IBMQ device properties \n",
    "full_properties = device.properties()\n",
    "coupling_map = device.configuration().coupling_map\n",
    "depol_noise_model = RIIM_tools.generate_cx_error_noise_model(2, error_param)\n"
   ]
  },
  {
   "cell_type": "code",
   "execution_count": 24,
   "metadata": {},
   "outputs": [
    {
     "data": {
      "text/plain": [
       "0.4965"
      ]
     },
     "execution_count": 24,
     "metadata": {},
     "output_type": "execute_result"
    }
   ],
   "source": [
    "### Returns un-error-mitigated observable value\n",
    "RIIM_tools.q1_q2_obs(execute(qc,\n",
    "                    backend_qasm,\n",
    "                    shots=shots,\n",
    "                    noise_model=depol_noise_model,\n",
    "                    coupling_map = coupling_map,\n",
    "                    optimization_level=0).result().get_counts(), shots)"
   ]
  },
  {
   "cell_type": "code",
   "execution_count": 25,
   "metadata": {},
   "outputs": [
    {
     "data": {
      "text/plain": [
       "-0.003824999999999079"
      ]
     },
     "execution_count": 25,
     "metadata": {},
     "output_type": "execute_result"
    }
   ],
   "source": [
    "### Returns extrapolated observable value with RIIM\n",
    "RIIM_tools.run_RIIM_extrapolation(2, qc, RIIM_tools.q1_q2_obs, backend_qasm, shots, depol_noise_model, coupling_map)"
   ]
  },
  {
   "cell_type": "code",
   "execution_count": 26,
   "metadata": {},
   "outputs": [
    {
     "data": {
      "text/plain": [
       "0.14410000000000078"
      ]
     },
     "execution_count": 26,
     "metadata": {},
     "output_type": "execute_result"
    }
   ],
   "source": [
    "### Returns extrapolated observable value with FIIM\n",
    "RIIM_tools.run_FIIM_extrapolation(2, qc, RIIM_tools.q1_q2_obs, backend_qasm, shots, depol_noise_model, coupling_map)"
   ]
  },
  {
   "cell_type": "code",
   "execution_count": 28,
   "metadata": {},
   "outputs": [
    {
     "data": {
      "text/plain": [
       "0.007787499999999614"
      ]
     },
     "execution_count": 28,
     "metadata": {},
     "output_type": "execute_result"
    }
   ],
   "source": [
    "### Returns extrapolated observable value with sampled RIIM (setting normalize_shots to True)\n",
    "RIIM_tools.run_RIIM_extrapolation_sampled(2, qc, 10, True, RIIM_tools.q1_q2_obs, backend_qasm, shots, depol_noise_model, coupling_map)"
   ]
  },
  {
   "cell_type": "code",
   "execution_count": null,
   "metadata": {},
   "outputs": [],
   "source": []
  }
 ],
 "metadata": {
  "kernelspec": {
   "display_name": "Python (qiskit_0)",
   "language": "python",
   "name": "qiskit_0"
  },
  "language_info": {
   "codemirror_mode": {
    "name": "ipython",
    "version": 3
   },
   "file_extension": ".py",
   "mimetype": "text/x-python",
   "name": "python",
   "nbconvert_exporter": "python",
   "pygments_lexer": "ipython3",
   "version": "3.8.1"
  }
 },
 "nbformat": 4,
 "nbformat_minor": 2
}
